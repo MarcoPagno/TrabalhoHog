{
  "nbformat": 4,
  "nbformat_minor": 0,
  "metadata": {
    "colab": {
      "provenance": []
    },
    "kernelspec": {
      "name": "python3",
      "display_name": "Python 3"
    },
    "language_info": {
      "name": "python"
    }
  },
  "cells": [
    {
      "cell_type": "code",
      "execution_count": 26,
      "metadata": {
        "colab": {
          "base_uri": "https://localhost:8080/"
        },
        "id": "nS3Bx2l3zAkR",
        "outputId": "b312419d-6371-4af7-8a29-4b100427c334"
      },
      "outputs": [
        {
          "output_type": "stream",
          "name": "stdout",
          "text": [
            "Acurácia: 1.0\n",
            "Precisão: 1.0\n",
            "Previsões do modelo:\n",
            "Imagem 1: cavalo\n",
            "Imagem 2: cavalo\n",
            "Imagem 3: cavalo\n",
            "Imagem 4: cavalo\n",
            "Imagem 5: cavalo\n",
            "Imagem 6: banana\n",
            "Imagem 7: banana\n",
            "Imagem 8: banana\n",
            "Imagem 9: banana\n",
            "Imagem 10: banana\n",
            "Imagem 11: telefone\n",
            "Imagem 12: telefone\n",
            "Imagem 13: telefone\n",
            "Imagem 14: telefone\n",
            "Imagem 15: telefone\n"
          ]
        }
      ],
      "source": [
        "import cv2\n",
        "import numpy as np\n",
        "from skimage.feature import hog\n",
        "from sklearn.svm import LinearSVC\n",
        "from sklearn.metrics import accuracy_score, precision_score\n",
        "\n",
        "# Função para extrair as características HoG de uma imagem\n",
        "def extract_hog_features(image):\n",
        "    gray = cv2.cvtColor(image, cv2.COLOR_BGR2GRAY)\n",
        "    resized_image = cv2.resize(gray, (64, 128))\n",
        "    hog_features = hog(resized_image, orientations=9, pixels_per_cell=(8, 8), cells_per_block=(2, 2), block_norm='L2-Hys')\n",
        "    return hog_features\n",
        "\n",
        "# Carregar as imagens\n",
        "horse_images = []\n",
        "banana_images = []\n",
        "phone_images = []\n",
        "\n",
        "for i in range(1, 6):\n",
        "    image_path = f'cavalos/imagem{i}.jpg'\n",
        "    image = cv2.imread(image_path)\n",
        "    horse_images.append(image)\n",
        "\n",
        "    image_path = f'bananas/imagem{i}.jpg'\n",
        "    image = cv2.imread(image_path)\n",
        "    banana_images.append(image)\n",
        "\n",
        "    image_path = f'telefones/imagem{i}.jpg'\n",
        "    image = cv2.imread(image_path)\n",
        "    phone_images.append(image)\n",
        "\n",
        "# Extrair as características HoG de todas as imagens\n",
        "hog_features = []\n",
        "labels = []\n",
        "for image in horse_images:\n",
        "    hog_features.append(extract_hog_features(image))\n",
        "    labels.append('cavalo')\n",
        "\n",
        "for image in banana_images:\n",
        "    hog_features.append(extract_hog_features(image))\n",
        "    labels.append('banana')\n",
        "\n",
        "for image in phone_images:\n",
        "    hog_features.append(extract_hog_features(image))\n",
        "    labels.append('telefone')\n",
        "\n",
        "# Converter as listas para arrays numpy\n",
        "hog_features = np.array(hog_features)\n",
        "labels = np.array(labels)\n",
        "\n",
        "# Dividir os dados em treinamento e teste\n",
        "X_train = hog_features\n",
        "y_train = labels\n",
        "\n",
        "# Treinar um classificador (neste caso, um SVM linear)\n",
        "classifier = LinearSVC()\n",
        "classifier.fit(X_train, y_train)\n",
        "\n",
        "# Fazer previsões no conjunto de treinamento\n",
        "y_pred_train = classifier.predict(X_train)\n",
        "\n",
        "# Calcular as métricas do modelo\n",
        "accuracy = accuracy_score(y_train, y_pred_train)\n",
        "precision = precision_score(y_train, y_pred_train, average='weighted')\n",
        "\n",
        "print('Acurácia:', accuracy)\n",
        "print('Precisão:', precision)\n",
        "\n",
        "# Imprimir as previsões\n",
        "print('')\n",
        "print('Previsões do modelo:')\n",
        "for i, pred in enumerate(y_pred_train):\n",
        "    print(f'Imagem {i+1}: {pred}')"
      ]
    }
  ]
}